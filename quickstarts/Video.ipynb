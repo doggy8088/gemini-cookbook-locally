{
  "cells": [
    {
      "cell_type": "markdown",
      "metadata": {
        "id": "Tce3stUlHN0L"
      },
      "source": [
        "##### Copyright 2024 Google LLC."
      ]
    },
    {
      "cell_type": "code",
      "execution_count": 1,
      "metadata": {
        "cellView": "form",
        "id": "tuOe1ymfHZPu"
      },
      "outputs": [],
      "source": [
        "#@title Licensed under the Apache License, Version 2.0 (the \"License\");\n",
        "# you may not use this file except in compliance with the License.\n",
        "# You may obtain a copy of the License at\n",
        "#\n",
        "# https://www.apache.org/licenses/LICENSE-2.0\n",
        "#\n",
        "# Unless required by applicable law or agreed to in writing, software\n",
        "# distributed under the License is distributed on an \"AS IS\" BASIS,\n",
        "# WITHOUT WARRANTIES OR CONDITIONS OF ANY KIND, either express or implied.\n",
        "# See the License for the specific language governing permissions and\n",
        "# limitations under the License."
      ]
    },
    {
      "cell_type": "markdown",
      "metadata": {
        "id": "084u8u0DpBlo"
      },
      "source": [
        "# Gemini API: Prompting with Video"
      ]
    },
    {
      "cell_type": "markdown",
      "metadata": {
        "id": "wnQ_LVlzIeXo"
      },
      "source": [
        "<table align=\"left\">\n",
        "  <td>\n",
        "    <a target=\"_blank\" href=\"https://colab.research.google.com/github/google-gemini/cookbook/blob/main/quickstarts/Video.ipynb\"><img src=\"https://www.tensorflow.org/images/colab_logo_32px.png\" />Run in Google Colab</a>\n",
        "  </td>\n",
        "</table>"
      ]
    },
    {
      "cell_type": "markdown",
      "metadata": {
        "id": "q7QvXQMrIhuZ"
      },
      "source": [
        "This notebook provides a quick example of how to prompt Gemini 1.5 Pro using a video file. In this case, you'll use a short clip of [Sherlock Jr.](https://en.wikipedia.org/wiki/Sherlock_Jr.)"
      ]
    },
    {
      "cell_type": "code",
      "execution_count": 2,
      "metadata": {
        "id": "qLuL9m7KhvxR"
      },
      "outputs": [
        {
          "name": "stdout",
          "output_type": "stream",
          "text": [
            "\u001b[2K     \u001b[90m━━━━━━━━━━━━━━━━━━━━━━━━━━━━━━━━━━━━━━━━\u001b[0m \u001b[32m146.8/146.8 kB\u001b[0m \u001b[31m1.3 MB/s\u001b[0m eta \u001b[36m0:00:00\u001b[0m\n",
            "\u001b[2K     \u001b[90m━━━━━━━━━━━━━━━━━━━━━━━━━━━━━━━━━━━━━━━━\u001b[0m \u001b[32m664.5/664.5 kB\u001b[0m \u001b[31m11.0 MB/s\u001b[0m eta \u001b[36m0:00:00\u001b[0m\n",
            "\u001b[?25h"
          ]
        }
      ],
      "source": [
        "!pip install -U -q google-generativeai"
      ]
    },
    {
      "cell_type": "code",
      "execution_count": 1,
      "metadata": {
        "id": "ATIbQM0NHhkj"
      },
      "outputs": [],
      "source": [
        "import google.generativeai as genai"
      ]
    },
    {
      "cell_type": "markdown",
      "metadata": {
        "id": "ngyzKAu3Nw5k"
      },
      "source": [
        "### Authentication Overview\n",
        "\n",
        "**Important:** The File API uses API keys for authentication and access. Uploaded files are associated with the API key's cloud project. Unlike other Gemini APIs that use API keys, your API key also grants access data you've uploaded to the File API, so take extra care in keeping your API key secure. For best practices on securing API keys, refer to Google's [documentation](https://support.google.com/googleapi/answer/6310037)."
      ]
    },
    {
      "cell_type": "markdown",
      "metadata": {
        "id": "l8g4hTRotheH"
      },
      "source": [
        "### Setup your API key\n",
        "\n",
        "To run the following cell, your API key must be stored it in a Colab Secret named `GOOGLE_API_KEY`. If you don't already have an API key, or you're not sure how to create a Colab Secret, see [Authentication](https://github.com/google-gemini/cookbook/blob/main/quickstarts/Authentication.ipynb) for an example."
      ]
    },
    {
      "cell_type": "code",
      "execution_count": 2,
      "metadata": {
        "id": "d6lYXRcjthKV"
      },
      "outputs": [],
      "source": [
        "import os\n",
        "GOOGLE_API_KEY=os.environ.get('GOOGLE_API_KEY')\n",
        "\n",
        "import google.generativeai as genai\n",
        "genai.configure(api_key=GOOGLE_API_KEY)"
      ]
    },
    {
      "cell_type": "markdown",
      "metadata": {
        "id": "MNvhBdoDFnTC"
      },
      "source": [
        "## Extract frames\n",
        "\n",
        "The Gemini API currently does not support video files directly. Instead, you can provide a series of timestamps and image files.\n",
        "\n",
        "We will extract 1 frame a second from a 10 minute clip of the film [Sherlock Jr.](https://en.wikipedia.org/wiki/Sherlock_Jr.).\n",
        "\n",
        "Note: You can also [upload your own files](https://github.com/google-gemini/cookbook/tree/main/examples/Upload_files.ipynb) to use."
      ]
    },
    {
      "cell_type": "code",
      "execution_count": 3,
      "metadata": {
        "id": "_HzrDdp2Q1Cu"
      },
      "outputs": [],
      "source": [
        "video_file_name = \"https://storage.googleapis.com/generativeai-downloads/data/SherlockJr._10min.mp4\""
      ]
    },
    {
      "cell_type": "markdown",
      "metadata": {
        "id": "4_2KHEawhDD7"
      },
      "source": [
        "Use OpenCV to extract image frames from the video at 1 frame per second."
      ]
    },
    {
      "cell_type": "code",
      "execution_count": 5,
      "metadata": {
        "id": "jW9ilYCdL99M"
      },
      "outputs": [
        {
          "name": "stdout",
          "output_type": "stream",
          "text": [
            "Extracting https://storage.googleapis.com/generativeai-downloads/data/SherlockJr._10min.mp4 at 1 frame per second. This might take a bit...\n"
          ]
        }
      ],
      "source": [
        "import cv2\n",
        "import os\n",
        "import shutil\n",
        "\n",
        "# Create or cleanup existing extracted image frames directory.\n",
        "FRAME_EXTRACTION_DIRECTORY = \"/content/frames\"\n",
        "FRAME_PREFIX = \"_frame\"\n",
        "def create_frame_output_dir(output_dir):\n",
        "  if not os.path.exists(output_dir):\n",
        "    os.makedirs(output_dir)\n",
        "  else:\n",
        "    shutil.rmtree(output_dir)\n",
        "    os.makedirs(output_dir)\n",
        "\n",
        "def extract_frame_from_video(video_file_path):\n",
        "  print(f\"Extracting {video_file_path} at 1 frame per second. This might take a bit...\")\n",
        "  create_frame_output_dir(FRAME_EXTRACTION_DIRECTORY)\n",
        "  vidcap = cv2.VideoCapture(video_file_path)\n",
        "  fps = vidcap.get(cv2.CAP_PROP_FPS)\n",
        "  frame_duration = 1 / fps  # Time interval between frames (in seconds)\n",
        "  output_file_prefix = os.path.basename(video_file_path).replace('.', '_')\n",
        "  frame_count = 0\n",
        "  count = 0\n",
        "  while vidcap.isOpened():\n",
        "      success, frame = vidcap.read()\n",
        "      if not success: # End of video\n",
        "          break\n",
        "      if int(count / fps) == frame_count: # Extract a frame every second\n",
        "          min = frame_count // 60\n",
        "          sec = frame_count % 60\n",
        "          time_string = f\"{min:02d}:{sec:02d}\"\n",
        "          image_name = f\"{output_file_prefix}{FRAME_PREFIX}{time_string}.jpg\"\n",
        "          output_filename = os.path.join(FRAME_EXTRACTION_DIRECTORY, image_name)\n",
        "          cv2.imwrite(output_filename, frame)\n",
        "          frame_count += 1\n",
        "      count += 1\n",
        "  vidcap.release() # Release the capture object\\n\",\n",
        "  print(f\"Completed video frame extraction!\\n\\nExtracted: {frame_count} frames\")\n",
        "\n",
        "extract_frame_from_video(video_file_name)"
      ]
    },
    {
      "cell_type": "markdown",
      "metadata": {
        "id": "c-z4zsCUlaru"
      },
      "source": [
        "## Upload frames using the File API\n",
        "\n",
        "Once we have the frames extracted, we are ready to upload the frames to the API.\n",
        "\n",
        "The File API accepts files under 2GB in size and can store up to 20GB of files per project. Files last for 2 days and cannot be downloaded from the API.\n",
        "\n",
        "We will just upload 10 frames so this example runs quickly. You can modify the code below to upload the entire video."
      ]
    },
    {
      "cell_type": "code",
      "execution_count": 7,
      "metadata": {
        "id": "JSd4s0YygV9r"
      },
      "outputs": [
        {
          "name": "stdout",
          "output_type": "stream",
          "text": [
            "Uploading 10 files. This might take a bit...\n",
            "Uploading: /content/frames/SherlockJr__10min_mp4_frame00:40.jpg...\n",
            "Uploading: /content/frames/SherlockJr__10min_mp4_frame00:41.jpg...\n",
            "Uploading: /content/frames/SherlockJr__10min_mp4_frame00:42.jpg...\n",
            "Uploading: /content/frames/SherlockJr__10min_mp4_frame00:43.jpg...\n",
            "Uploading: /content/frames/SherlockJr__10min_mp4_frame00:44.jpg...\n",
            "Uploading: /content/frames/SherlockJr__10min_mp4_frame00:45.jpg...\n",
            "Uploading: /content/frames/SherlockJr__10min_mp4_frame00:46.jpg...\n",
            "Uploading: /content/frames/SherlockJr__10min_mp4_frame00:47.jpg...\n",
            "Uploading: /content/frames/SherlockJr__10min_mp4_frame00:48.jpg...\n",
            "Uploading: /content/frames/SherlockJr__10min_mp4_frame00:49.jpg...\n",
            "Completed file uploads!\n",
            "\n",
            "Uploaded: 10 files\n"
          ]
        }
      ],
      "source": [
        "import os\n",
        "\n",
        "class File:\n",
        "  def __init__(self, file_path: str, display_name: str = None):\n",
        "    self.file_path = file_path\n",
        "    if display_name:\n",
        "      self.display_name = display_name\n",
        "    self.timestamp = get_timestamp(file_path)\n",
        "\n",
        "  def set_file_response(self, response):\n",
        "    self.response = response\n",
        "\n",
        "def get_timestamp(filename):\n",
        "  \"\"\"Extracts the frame count (as an integer) from a filename with the format\n",
        "     'output_file_prefix_frame00:00.jpg'.\n",
        "  \"\"\"\n",
        "  parts = filename.split(FRAME_PREFIX)\n",
        "  if len(parts) != 2:\n",
        "      return None  # Indicates the filename might be incorrectly formatted\n",
        "  return parts[1].split('.')[0]\n",
        "\n",
        "# Process each frame in the output directory\n",
        "files = os.listdir(FRAME_EXTRACTION_DIRECTORY)\n",
        "files = sorted(files)\n",
        "files_to_upload = []\n",
        "for file in files:\n",
        "  files_to_upload.append(\n",
        "      File(file_path=os.path.join(FRAME_EXTRACTION_DIRECTORY, file)))\n",
        "\n",
        "# Upload the files to the API\n",
        "# Only upload a 10 second slice of files to reduce upload time.\n",
        "# Change full_video to True to upload the whole video.\n",
        "full_video = False\n",
        "\n",
        "uploaded_files = []\n",
        "print(f'Uploading {len(files_to_upload) if full_video else 10} files. This might take a bit...')\n",
        "\n",
        "for file in files_to_upload if full_video else files_to_upload[40:50]:\n",
        "  print(f'Uploading: {file.file_path}...')\n",
        "  response = genai.upload_file(path=file.file_path)\n",
        "  file.set_file_response(response)\n",
        "  uploaded_files.append(file)\n",
        "\n",
        "print(f\"Completed file uploads!\\n\\nUploaded: {len(uploaded_files)} files\")"
      ]
    },
    {
      "cell_type": "markdown",
      "metadata": {
        "id": "oOZmTUb4FWOa"
      },
      "source": [
        "## List Files\n",
        "\n",
        "After uploading the file, you can verify the API has successfully received the files by calling `files.list`.\n",
        "\n",
        "`files.list` lets you see all files that have been uploaded to the File API that are associated with the Cloud project your API key belongs to. Only the `name` (and by extension, the `uri`) are unique."
      ]
    },
    {
      "cell_type": "code",
      "execution_count": null,
      "metadata": {
        "id": "SHMVCWHkFhJW"
      },
      "outputs": [
        {
          "name": "stdout",
          "output_type": "stream",
          "text": [
            "https://generativelanguage.googleapis.com/v1beta/files/5ea7iyxfz49g\n",
            "https://generativelanguage.googleapis.com/v1beta/files/g4bug5rmphkz\n",
            "https://generativelanguage.googleapis.com/v1beta/files/xt2qoh3x0in5\n",
            "https://generativelanguage.googleapis.com/v1beta/files/pibycmgydtwl\n",
            "https://generativelanguage.googleapis.com/v1beta/files/q477xj4wnisv\n",
            "https://generativelanguage.googleapis.com/v1beta/files/hldcyzswc7yh\n",
            "https://generativelanguage.googleapis.com/v1beta/files/j0fqkxto51af\n",
            "https://generativelanguage.googleapis.com/v1beta/files/cpq3lorfi4jm\n",
            "https://generativelanguage.googleapis.com/v1beta/files/ube15rpb295f\n",
            "https://generativelanguage.googleapis.com/v1beta/files/60x22ejdo34p\n"
          ]
        }
      ],
      "source": [
        "# List files uploaded in the API\n",
        "for n, f in zip(range(len(uploaded_files)), genai.list_files()):\n",
        "  print(f.uri)"
      ]
    },
    {
      "cell_type": "markdown",
      "metadata": {
        "id": "EPPOECHzsIGJ"
      },
      "source": [
        "## Generate Content\n",
        "\n",
        "After the file has been uploaded, you can make `GenerateContent` requests that reference the File API URI.\n",
        "\n",
        "To understand videos with Gemini 1.5 Pro, provide 2 consecutive `Part`s for each frame: a `text` part with the **timestamp** and `fileData` part with the frame's **image URI**:\n",
        "\n",
        "```\n",
        "part { text = \"00:00\" }\n",
        "part { fileData = fileData {\n",
        "  fileUri = \"https://generativelanguage.googleapis.com/v1/files/frame-0\"\n",
        "  mimeType = \"image/jpeg\"\n",
        "}}\n",
        "```"
      ]
    },
    {
      "cell_type": "code",
      "execution_count": 9,
      "metadata": {
        "id": "ZYVFqmLkl5nE"
      },
      "outputs": [
        {
          "name": "stdout",
          "output_type": "stream",
          "text": [
            "Two men in suits and bowler hats are walking down a dirt road. They are walking in the same direction as the cars that are parked on the side of the road. There are houses and other buildings in the background. The men cross a set of railroad tracks. One of the men opens the door of a boxcar and climbs in, while the other man waves goodbye. In the background, there are oil derricks.\n"
          ]
        }
      ],
      "source": [
        "# Create the prompt.\n",
        "prompt = \"Describe this video.\"\n",
        "\n",
        "# Set the model to Gemini 1.5 Pro.\n",
        "model = genai.GenerativeModel(model_name=\"models/gemini-1.5-pro-latest\")\n",
        "\n",
        "# Make GenerateContent request with the structure described above.\n",
        "def make_request(prompt, files):\n",
        "  request = [prompt]\n",
        "  for file in files:\n",
        "    request.append(file.timestamp)\n",
        "    request.append(file.response)\n",
        "  return request\n",
        "\n",
        "# Make the LLM request.\n",
        "request = make_request(prompt, uploaded_files)\n",
        "response = model.generate_content(request,\n",
        "                                  request_options={\"timeout\": 600})\n",
        "print(response.text)"
      ]
    },
    {
      "cell_type": "markdown",
      "metadata": {
        "id": "IrPDYdQSKTg4"
      },
      "source": [
        "## Delete Files\n",
        "\n",
        "Files are automatically deleted after 2 days or you can manually delete them using `files.delete()`."
      ]
    },
    {
      "cell_type": "code",
      "execution_count": 10,
      "metadata": {
        "id": "d4eO8ZXoKdZf"
      },
      "outputs": [
        {
          "name": "stdout",
          "output_type": "stream",
          "text": [
            "Deleting 10 images. This might take a bit...\n",
            "Deleted /content/frames/SherlockJr__10min_mp4_frame00:40.jpg at URI https://generativelanguage.googleapis.com/v1beta/files/60x22ejdo34p\n",
            "Deleted /content/frames/SherlockJr__10min_mp4_frame00:41.jpg at URI https://generativelanguage.googleapis.com/v1beta/files/ube15rpb295f\n",
            "Deleted /content/frames/SherlockJr__10min_mp4_frame00:42.jpg at URI https://generativelanguage.googleapis.com/v1beta/files/cpq3lorfi4jm\n",
            "Deleted /content/frames/SherlockJr__10min_mp4_frame00:43.jpg at URI https://generativelanguage.googleapis.com/v1beta/files/j0fqkxto51af\n",
            "Deleted /content/frames/SherlockJr__10min_mp4_frame00:44.jpg at URI https://generativelanguage.googleapis.com/v1beta/files/hldcyzswc7yh\n",
            "Deleted /content/frames/SherlockJr__10min_mp4_frame00:45.jpg at URI https://generativelanguage.googleapis.com/v1beta/files/q477xj4wnisv\n",
            "Deleted /content/frames/SherlockJr__10min_mp4_frame00:46.jpg at URI https://generativelanguage.googleapis.com/v1beta/files/pibycmgydtwl\n",
            "Deleted /content/frames/SherlockJr__10min_mp4_frame00:47.jpg at URI https://generativelanguage.googleapis.com/v1beta/files/xt2qoh3x0in5\n",
            "Deleted /content/frames/SherlockJr__10min_mp4_frame00:48.jpg at URI https://generativelanguage.googleapis.com/v1beta/files/g4bug5rmphkz\n",
            "Deleted /content/frames/SherlockJr__10min_mp4_frame00:49.jpg at URI https://generativelanguage.googleapis.com/v1beta/files/5ea7iyxfz49g\n",
            "Completed deleting files!\n",
            "\n",
            "Deleted: 10 files\n"
          ]
        }
      ],
      "source": [
        "print(f'Deleting {len(uploaded_files)} images. This might take a bit...')\n",
        "for file in uploaded_files:\n",
        "  genai.delete_file(file.response.name)\n",
        "  print(f'Deleted {file.file_path} at URI {file.response.uri}')\n",
        "print(f\"Completed deleting files!\\n\\nDeleted: {len(uploaded_files)} files\")"
      ]
    },
    {
      "cell_type": "markdown",
      "metadata": {
        "id": "K5oUCqb6IUnH"
      },
      "source": [
        "## Learning more\n",
        "\n",
        "The File API lets you upload a variety of multimodal MIME types, including images and audio formats. The File API handles inputs that can be used to generate content with [`model.generateContent`](https://ai.google.dev/api/rest/v1/models/generateContent) or [`model.streamGenerateContent`](https://ai.google.dev/api/rest/v1/models/streamGenerateContent).\n",
        "\n",
        "The File API accepts files under 2GB in size and can store up to 20GB of files per project. Files last for 2 days and cannot be downloaded from the API.\n",
        "\n",
        "* Learn more about the [File API](https://github.com/google-gemini/cookbook/blob/main/quickstarts/File_API.ipynb) with the quickstart.\n",
        "\n",
        "* Learn more about prompting with [media files](https://ai.google.dev/tutorials/prompting_with_media) in the docs, including the supported formats and maximum length."
      ]
    }
  ],
  "metadata": {
    "colab": {
      "name": "Video.ipynb",
      "toc_visible": true
    },
    "kernelspec": {
      "display_name": "Python 3",
      "name": "python3"
    },
    "language_info": {
      "codemirror_mode": {
        "name": "ipython",
        "version": 3
      },
      "file_extension": ".py",
      "mimetype": "text/x-python",
      "name": "python",
      "nbconvert_exporter": "python",
      "pygments_lexer": "ipython3",
      "version": "3.10.11"
    }
  },
  "nbformat": 4,
  "nbformat_minor": 0
}
