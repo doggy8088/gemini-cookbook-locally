{
  "cells": [
    {
      "cell_type": "markdown",
      "metadata": {
        "id": "Tce3stUlHN0L"
      },
      "source": [
        "##### Copyright 2024 Google LLC."
      ]
    },
    {
      "cell_type": "code",
      "execution_count": null,
      "metadata": {
        "cellView": "form",
        "id": "tuOe1ymfHZPu"
      },
      "outputs": [],
      "source": [
        "#@title Licensed under the Apache License, Version 2.0 (the \"License\");\n",
        "# you may not use this file except in compliance with the License.\n",
        "# You may obtain a copy of the License at\n",
        "#\n",
        "# https://www.apache.org/licenses/LICENSE-2.0\n",
        "#\n",
        "# Unless required by applicable law or agreed to in writing, software\n",
        "# distributed under the License is distributed on an \"AS IS\" BASIS,\n",
        "# WITHOUT WARRANTIES OR CONDITIONS OF ANY KIND, either express or implied.\n",
        "# See the License for the specific language governing permissions and\n",
        "# limitations under the License."
      ]
    },
    {
      "cell_type": "markdown",
      "metadata": {
        "id": "yeadDkMiISin"
      },
      "source": [
        "# Gemini API: Streaming Quickstart"
      ]
    },
    {
      "cell_type": "markdown",
      "metadata": {
        "id": "df1767a3d1cc"
      },
      "source": [
        "This notebook demonstrates streaming in the Python SDK. By default, the Python SDK returns a response after the model completes the entire generation process. You can also stream the response as it is being generated, and the model will return chunks of the response as soon as they are generated.\n",
        "\n",
        "**Download this notebook and run it locally (not in Google Colab)**\n",
        "\n",
        "Streaming is not handled correctly in Google Colab yet. Currently all the stream chunks are returned together, not as they are generated. To see the correct behavior, download this notebook and run it locally using Jupyter, instead."
      ]
    },
    {
      "cell_type": "code",
      "execution_count": null,
      "metadata": {
        "id": "xuiLSV7amy3P"
      },
      "outputs": [],
      "source": [
        "!pip install -U -q google-generativeai # Install the Python SDK"
      ]
    },
    {
      "cell_type": "code",
      "execution_count": 1,
      "metadata": {
        "id": "79EWm0DAmy-g"
      },
      "outputs": [],
      "source": [
        "import google.generativeai as genai"
      ]
    },
    {
      "cell_type": "markdown",
      "metadata": {
        "id": "DkeZNMrw6kPD"
      },
      "source": [
        "You'll need an API key stored in an environment variable to run this notebook. See the the [Authentication quickstart](https://github.com/google-gemini/cookbook/blob/main/quickstarts/Authentication.ipynb) for an example."
      ]
    },
    {
      "cell_type": "code",
      "execution_count": 2,
      "metadata": {
        "id": "t9O-OzeAKC_m"
      },
      "outputs": [],
      "source": [
        "import os\n",
        "GOOGLE_API_KEY=os.environ.get('GOOGLE_API_KEY')\n"
      ]
    },
    {
      "cell_type": "markdown",
      "metadata": {
        "id": "BUoa5q0iUuE1"
      },
      "source": [
        "## Handle streaming responses\n",
        "\n",
        "To stream responses, use [`GenerativeModel.generate_content(..., stream=True)`](https://ai.google.dev/api/python/google/generativeai/GenerativeModel#generate_content).\n",
        "\n",
        "**Note**: This cell runs with a Google Colab runtime, but does not properly show streaming due to implementation details of Colab runtimes."
      ]
    },
    {
      "cell_type": "code",
      "execution_count": 3,
      "metadata": {
        "id": "nVWWGBsBok3m"
      },
      "outputs": [
        {
          "name": "stdout",
          "output_type": "stream",
          "text": [
            "In the cozy confines of a sunlit cottage, amidst a flurry of playful antics\n",
            "________________________________________________________________________________\n",
            ", resided two extraordinary felines named Mittens and Whiskers.\n",
            "\n",
            "Mittens, with her soft, ebony fur and piercing emerald eyes, exuded an air\n",
            "________________________________________________________________________________\n",
            " of regal elegance. Whiskers, on the other hand, was a mischievous tabby with a penchant for adventure.\n",
            "\n",
            "One lazy afternoon, as the sun peeked through the windowpanes, Mittens and Whiskers lay curled up together on a plush velvet cushion. Mittens' rhythmic purring filled the air, creating an\n",
            "________________________________________________________________________________\n",
            " atmosphere of blissful serenity.\n",
            "\n",
            "Suddenly, a playful twitch in Whiskers' whiskers caught Mittens' attention. He had spotted a dangling toy mouse at the edge of the table. With lightning-fast reflexes, he pounced upon it, its rattling sound echoing through the room.\n",
            "\n",
            "Mittens, unable to resist the allure of the chase, darted after her companion. They raced around the cottage, their tiny paws pattering on the hardwood floor. Whiskers' agility proved to be no match for Mittens' speed, and she quickly overtook him.\n",
            "\n",
            "They tumbled and wrestled with the toy, their eyes sparkling with joy. The laughter\n",
            "________________________________________________________________________________\n",
            " of their owners filled the room, adding to the symphony of feline antics.\n",
            "\n",
            "As the chase reached its climax, Mittens pounced upon the mouse, sinking her teeth into its fabric. Whiskers, not to be outdone, reached out a paw and snatched it away.\n",
            "\n",
            "Back and forth they went, their tiny bodies writhing with excitement. Finally, Whiskers pinned the toy beneath his paw and meowed triumphantly.\n",
            "\n",
            "Mittens, with her usual poise, simply raised an eyebrow and let out a soft purr. She had allowed Whiskers his moment of glory.\n",
            "\n",
            "And so, the afternoon passed in a haze of feline playtime, filled with laughter, adventure, and an unbreakable bond between two unlikely companions.\n",
            "________________________________________________________________________________\n"
          ]
        }
      ],
      "source": [
        "model = genai.GenerativeModel('gemini-pro')\n",
        "response = model.generate_content(\"Write a cute story about cats.\", stream=True)\n",
        "for chunk in response:\n",
        "  print(chunk.text)\n",
        "  print(\"_\"*80)"
      ]
    },
    {
      "cell_type": "markdown",
      "metadata": {
        "id": "KswwVyHCKC_n"
      },
      "source": [
        "## Handle streaming responses asynchronously\n",
        "\n",
        "To stream responses asynchronously, use [`GenerativeModel.generate_content_async(..., stream=True)`](https://ai.google.dev/api/python/google/generativeai/GenerativeModel#generate_content_async).\n",
        "\n",
        "**Note**: These cells do NOT work with a Google Colab runtime, but do work in a local Jupyter notebook."
      ]
    },
    {
      "cell_type": "code",
      "execution_count": 4,
      "metadata": {
        "id": "n6sXnWrJoKoo"
      },
      "outputs": [
        {
          "name": "stdout",
          "output_type": "stream",
          "text": [
            "In the quaint little town of Willow Creek, where verdant meadows met cozy cottages\n",
            "________________________________________________________________________________\n",
            ", there lived two extraordinary cats named Mittens and Whiskers. Mittens, with her shimmering silver fur and piercing blue eyes, possessed an air of quiet elegance\n",
            "________________________________________________________________________________\n",
            ". Whiskers, on the other hand, was a mischievous bundle of energy with his playful brown stripes and a perpetual glint in his eyes.\n",
            "\n",
            "Together, they were the best of friends, their bond unbreakable. Every morning, they would greet the rising sun from their favorite perch on the windowsill, Mittens\n",
            "________________________________________________________________________________\n",
            " purring contentedly while Whiskers gazed wide-eyed at the world below.\n",
            "\n",
            "One sunny afternoon, as they chased butterflies through the backyard, their adventure led them to a secret garden hidden behind a tall hedge. As they cautiously entered, their senses were filled with the sweet scent of honeysuckle and the vibrant colors of blooming flowers.\n",
            "\n",
            "Suddenly, a peculiar sound caught their attention. Nestled amidst the petals of a rose bush, a tiny creature was whimpering softly. Mittens approached cautiously, her gentle paws reaching out to comfort the trembling bird.\n",
            "\n",
            "Whiskers, ever the protector, stood guard, his tail twitching\n",
            "________________________________________________________________________________\n",
            " nervously. Together, they watched as Mittens carefully lifted the bird into her paws and carried it towards the edge of the garden.\n",
            "\n",
            "As they stepped out into the sunlight, they noticed a kind-looking woman nearby. Mittens handed the bird to her, explaining that they had found it in the garden. The woman thanked them profusely and promised to care for it.\n",
            "\n",
            "From that day forward, Mittens and Whiskers became known as the \"Garden Guardians.\" They spent their days exploring the secret garden, protecting its furry and feathered inhabitants. And every evening, they would curl up together on the windowsill, their purrs and meows filling the cozy cottage with a perfect symphony of feline contentment.\n",
            "________________________________________________________________________________\n"
          ]
        }
      ],
      "source": [
        "async for chunk in await model.generate_content_async(\"Write a cute story about cats.\", stream=True):\n",
        "  print(chunk.text)\n",
        "  print(\"_\"*80)"
      ]
    },
    {
      "cell_type": "markdown",
      "metadata": {
        "id": "jpK3p1B4KC_o"
      },
      "source": [
        "Here's a simple example of two asynchronous functions running simultaneously."
      ]
    },
    {
      "cell_type": "code",
      "execution_count": 5,
      "metadata": {
        "id": "IJ-8SjYwKC_o"
      },
      "outputs": [
        {
          "name": "stdout",
          "output_type": "stream",
          "text": [
            "==========not blocked!==========\n",
            "In the quaint little cottage nestled amidst a meadow of wildflowers, there lived an extraordinary\n",
            "________________________________________________________________________________\n",
            " trio of cats: Mittens, Whiskers, and Shadow.\n",
            "\n",
            "Mittens, the eldest, was a mischievous tabby with a twinkle in her eye. Her\n",
            "________________________________________________________________________________\n",
            "==========not blocked!==========\n",
            " soft, white fur and fluffy tail made her look like a miniature lioness. Whiskers, the middle child, was a sleek black beauty with piercing green eyes. He possessed an air of elegance and a quiet confidence. Shadow, the youngest, was a timid calico with a playful spirit. Her calico pattern was a kale\n",
            "________________________________________________________________________________\n",
            "==========not blocked!==========\n",
            "idoscope of colors, and her blue eyes seemed to shimmer with mischief.\n",
            "\n",
            "One sunny afternoon, as the kittens basked on the windowsill, they noticed a curious movement in the neighboring yard. A tiny sparrow had fallen from its nest and was struggling to get back up. Mittens' heart melted with compassion, and she immediately leaped off the windowsill.\n",
            "\n",
            "\"We must help that poor little bird,\" she declared.\n",
            "\n",
            "Whiskers, with his feline agility, scaled the fence and retrieved the sparrow. Shadow, her tail twitching with excitement, ran ahead to guide the bird back to safety.\n",
            "\n",
            "As they approached the nest\n",
            "________________________________________________________________________________\n",
            ", they realized it was too high for the sparrow to reach. Undeterred, the kittens devised a cunning plan. Mittens used her sharp claws to make a series of steps on the side of the house, while Whiskers gently pushed the sparrow up the ladder.\n",
            "\n",
            "Finally, with a triumphant squeak, the sparrow reached its home and was reunited with its family. The kittens watched with pride as the sparrow chirped its thanks and soared into the sky.\n",
            "\n",
            "From that day forward, the trio of cats became known as the \"Helpers of the Helpless.\" They continued to use their feline powers for good, rescuing small creatures in need and spreading joy wherever they went.\n",
            "\n",
            "And so, in the quaint little cottage, Mittens, Whiskers, and Shadow lived happily ever after, their bond of friendship and love unbreakable.\n",
            "________________________________________________________________________________\n",
            "==========not blocked!==========\n",
            "==========not blocked!==========\n"
          ]
        }
      ],
      "source": [
        "import asyncio\n",
        "\n",
        "async def get_response():\n",
        "    async for chunk in await model.generate_content_async(\"Write a cute story about cats.\", stream=True):\n",
        "      print(chunk.text)\n",
        "      print(\"_\"*80)\n",
        "\n",
        "async def something_else():\n",
        "    for i in range(5):\n",
        "        print(\"==========not blocked!==========\")\n",
        "        await asyncio.sleep(3)\n",
        "\n",
        "async def async_demo():\n",
        "    # Create tasks\n",
        "    task1 = asyncio.create_task(get_response())\n",
        "    task2 = asyncio.create_task(something_else())\n",
        "\n",
        "    # Wait for tasks to complete\n",
        "    await asyncio.gather(task1, task2)\n",
        "\n",
        "# Jupyter notebooks handle event loops for you, so await directly\n",
        "await async_demo()"
      ]
    }
  ],
  "metadata": {
    "colab": {
      "name": "Streaming.ipynb",
      "toc_visible": true
    },
    "google": {
      "image_path": "/site-assets/images/share.png",
      "keywords": [
        "examples",
        "googleai",
        "samplecode",
        "python",
        "embed",
        "function"
      ]
    },
    "kernelspec": {
      "display_name": "Python 3",
      "name": "python3"
    },
    "language_info": {
      "codemirror_mode": {
        "name": "ipython",
        "version": 3
      },
      "file_extension": ".py",
      "mimetype": "text/x-python",
      "name": "python",
      "nbconvert_exporter": "python",
      "pygments_lexer": "ipython3",
      "version": "3.10.11"
    }
  },
  "nbformat": 4,
  "nbformat_minor": 0
}
